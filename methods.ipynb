{
  "nbformat": 4,
  "nbformat_minor": 0,
  "metadata": {
    "colab": {
      "provenance": []
    },
    "kernelspec": {
      "name": "python3",
      "display_name": "Python 3"
    },
    "language_info": {
      "name": "python"
    }
  },
  "cells": [
    {
      "cell_type": "code",
      "source": [
        "# Importing the necessary libraries\n",
        "import numpy as np\n",
        "import pandas as pd\n",
        "import matplotlib.pyplot as plt\n",
        "import seaborn as sns\n",
        "sns.set_style(\"whitegrid\")\n",
        "import os\n",
        "import plotly.graph_objects as go\n",
        "import plotly.express as px\n",
        "import statistics\n",
        "import scipy\n",
        "import scipy.stats as stats\n",
        "from scipy.stats import skew\n",
        "from scipy.stats import kurtosis\n",
        "%matplotlib inline\n",
        "\n",
        "import datetime\n",
        "from dateutil.relativedelta import relativedelta\n",
        "\n",
        "import warnings\n",
        "warnings.filterwarnings('ignore')"
      ],
      "metadata": {
        "id": "lvREyHOw-YEh"
      },
      "execution_count": 1,
      "outputs": []
    },
    {
      "cell_type": "code",
      "execution_count": null,
      "metadata": {
        "id": "rwOV0lDk-SlK"
      },
      "outputs": [],
      "source": [
        "path = '/content/drive/MyDrive/cpg_data.csv'\n",
        "cpg = DataProcessor(path)\n",
        "cpg.load_data()\n",
        "cpg.clean_data()\n",
        "cpg.pre_processing()\n",
        "cpg.univariate_analysis()\n",
        "cpg.bivariate_analysis()\n",
        "cpg.trivariate_analysis()"
      ]
    }
  ]
}